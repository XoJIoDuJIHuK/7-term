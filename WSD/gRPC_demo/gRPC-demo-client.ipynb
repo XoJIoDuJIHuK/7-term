{
 "cells": [
  {
   "cell_type": "code",
   "metadata": {
    "ExecuteTime": {
     "end_time": "2024-12-05T05:46:25.491157Z",
     "start_time": "2024-12-05T05:46:23.458178Z"
    }
   },
   "source": [
    "import asyncio\n",
    "\n",
    "from grpc._channel import _InactiveRpcError\n",
    "import grpc\n",
    "from grpc.aio import AioRpcError\n",
    "\n",
    "import service_pb2\n",
    "import service_pb2_grpc\n",
    "\n",
    "\n",
    "def run():\n",
    "    with grpc.insecure_channel('localhost:50051') as channel:\n",
    "        stub = service_pb2_grpc.GreeterStub(channel)\n",
    "        response = stub.Add(service_pb2.Parm2Request(x=10, y=5))\n",
    "        print(f\"{response.x} + {response.y} = {response.z}\")\n",
    "        response = stub.Sub(service_pb2.Parm2Request(x=10, y=5))\n",
    "        print(f\"{response.x} - {response.y} = {response.z}\")\n",
    "        response = stub.Mul(service_pb2.Parm2Request(x=10, y=5))\n",
    "        print(f\"{response.x} * {response.y} = {response.z}\")\n",
    "        response = stub.Div(service_pb2.Parm2Request(x=10, y=5))\n",
    "        print(f\"{response.x} / {response.y} = {response.z}\")\n",
    "        try:\n",
    "            x = 3\n",
    "            print(f\"Pow {x} ^ 2 = \", end=\"\")\n",
    "            response = stub.Pow2(service_pb2.Parm1Request(x=3), timeout=3)\n",
    "            print(response.z)\n",
    "        except _InactiveRpcError as e:\n",
    "            print(f\"{e.details()}\")\n",
    "        try:\n",
    "            print('Timeout example')\n",
    "            response = stub.ReallyHeavyFunction(service_pb2.Parm1Request(x=2), timeout=1.0)\n",
    "            print(f\"Result: {response.z}\")\n",
    "        except _InactiveRpcError as e:\n",
    "            print(f\"{e.args[0].code}: {e.details()}\")\n",
    "\n",
    "async def arun():\n",
    "    async with grpc.aio.insecure_channel('localhost:50051') as channel:\n",
    "        stub = service_pb2_grpc.GreeterStub(channel)\n",
    "        response = await stub.Add(service_pb2.Parm2Request(x=45, y=5))\n",
    "        print(f\"{response.x} + {response.y} = {response.z}\")\n",
    "        response = await stub.Sub(service_pb2.Parm2Request(x=12, y=5))\n",
    "        print(f\"{response.x} - {response.y} = {response.z}\")\n",
    "        response = await stub.Mul(service_pb2.Parm2Request(x=5, y=5))\n",
    "        print(f\"{response.x} * {response.y} = {response.z}\")\n",
    "        response = await stub.Div(service_pb2.Parm2Request(x=76, y=5))\n",
    "        print(f\"{response.x} / {response.y} = {response.z}\")\n",
    "        response = await stub.Pow2(service_pb2.Parm1Request(x=12))\n",
    "        print(f\"{response.x} ^ 2 = {response.z}\")\n",
    "        try:\n",
    "            response = await stub.Div(service_pb2.Parm2Request(x=12, y=0))\n",
    "            print(f\"Zero div: {response.z}\")\n",
    "        except AioRpcError as e:\n",
    "            print(f'AIO RPC ERROR: {e.details()}')\n",
    "        try:\n",
    "            print(\"Cancellation example\")\n",
    "            future = stub.ReallyHeavyFunction(\n",
    "                service_pb2.Parm1Request(x=2),\n",
    "                # timeout=1.0,\n",
    "                wait_for_ready=True\n",
    "            )\n",
    "            await asyncio.sleep(1)\n",
    "            future.cancel()\n",
    "            print(await future.details())\n",
    "        except _InactiveRpcError as e:\n",
    "            print(f\"{e.args[0].code}: {e.details()}\")\n",
    "\n",
    "if __name__ == '__main__':\n",
    "    print('Running sync')\n",
    "    run()\n",
    "    print('Running async')\n",
    "    await arun()\n"
   ],
   "outputs": [
    {
     "name": "stdout",
     "output_type": "stream",
     "text": [
      "Running sync\n",
      "10 + 5 = 15\n",
      "10 - 5 = 5\n",
      "10 * 5 = 50\n",
      "10 / 5 = 2\n",
      "Pow 3 ^ 2 = 9\n",
      "Timeout example\n",
      "StatusCode.DEADLINE_EXCEEDED: Deadline Exceeded\n",
      "Running async\n",
      "45 + 5 = 50\n",
      "12 - 5 = 7\n",
      "5 * 5 = 25\n",
      "76 / 5 = 15\n",
      "12 ^ 2 = 144\n",
      "AIO RPC ERROR: division by zero\n",
      "Cancellation example\n",
      "Locally cancelled by application!\n"
     ]
    }
   ],
   "execution_count": 6
  }
 ],
 "metadata": {
  "kernelspec": {
   "display_name": "grpc-demo-0l9WxrhU-py3.12",
   "language": "python",
   "name": "python3"
  },
  "language_info": {
   "codemirror_mode": {
    "name": "ipython",
    "version": 3
   },
   "file_extension": ".py",
   "mimetype": "text/x-python",
   "name": "python",
   "nbconvert_exporter": "python",
   "pygments_lexer": "ipython3",
   "version": "3.12.7"
  }
 },
 "nbformat": 4,
 "nbformat_minor": 2
}
